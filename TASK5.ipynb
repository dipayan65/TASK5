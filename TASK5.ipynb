{
  "nbformat": 4,
  "nbformat_minor": 0,
  "metadata": {
    "colab": {
      "private_outputs": true,
      "provenance": []
    },
    "kernelspec": {
      "name": "python3",
      "display_name": "Python 3"
    },
    "language_info": {
      "name": "python"
    }
  },
  "cells": [
    {
      "cell_type": "code",
      "source": [
        "# IPL 2024 Data Analysis - Exploratory Data Analysis (EDA)\n",
        "import pandas as pd\n",
        "import numpy as np\n",
        "import matplotlib.pyplot as plt\n",
        "import seaborn as sns"
      ],
      "metadata": {
        "id": "eK-YQ-L2iu-i"
      },
      "execution_count": null,
      "outputs": []
    },
    {
      "cell_type": "code",
      "source": [
        "df = pd.read_csv('/content/ipl_2024_matches.csv')"
      ],
      "metadata": {
        "id": "sv2OjVxkkIP8"
      },
      "execution_count": null,
      "outputs": []
    },
    {
      "cell_type": "code",
      "source": [
        "# Initial data inspection\n",
        "print(\"Dataset Shape:\", df.shape)\n",
        "print(\"\\nFirst 5 Rows:\")\n",
        "display(df.head())"
      ],
      "metadata": {
        "id": "42I_OTDplEFS"
      },
      "execution_count": null,
      "outputs": []
    },
    {
      "cell_type": "code",
      "source": [
        "print(\"\\nData Summary:\")\n",
        "display(df.info())\n",
        "display(df.describe(include='all'))"
      ],
      "metadata": {
        "id": "8IOU9i-9lXq9"
      },
      "execution_count": null,
      "outputs": []
    },
    {
      "cell_type": "code",
      "source": [
        "# Data Cleaning\n",
        "# Convert date to datetime\n",
        "df['date'] = pd.to_datetime(df['date'])"
      ],
      "metadata": {
        "id": "7qLO1bCrlbBq"
      },
      "execution_count": null,
      "outputs": []
    },
    {
      "cell_type": "code",
      "source": [
        "# Handle missing values\n",
        "df['margin'] = df['margin'].fillna(0)  # Fill missing margins with 0\n",
        "df = df.dropna(subset=['winning_team'])  # Drop matches without result"
      ],
      "metadata": {
        "id": "Tqoer79AldxI"
      },
      "execution_count": null,
      "outputs": []
    },
    {
      "cell_type": "code",
      "source": [
        "# Feature Engineering\n",
        "df['win_by_runs'] = np.where(df['won_by'] == 'runs', df['margin'], 0)\n",
        "df['win_by_wickets'] = np.where(df['won_by'] == 'wickets', df['margin'], 0)\n",
        "df['toss_win_match_win'] = np.where(df['toss_winner'] == df['winning_team'], 'Yes', 'No')\n"
      ],
      "metadata": {
        "id": "_O0_C9kalgTl"
      },
      "execution_count": null,
      "outputs": []
    },
    {
      "cell_type": "code",
      "source": [
        "# 1. Univariate Analysis\n",
        "plt.figure(figsize=(15, 12))"
      ],
      "metadata": {
        "id": "qedneI46li4m"
      },
      "execution_count": null,
      "outputs": []
    },
    {
      "cell_type": "code",
      "source": [
        "# Team Performance\n",
        "plt.subplot(221)\n",
        "sns.countplot(y='winning_team', data=df, order=df['winning_team'].value_counts().index)\n",
        "plt.title('Total Wins by Team')\n",
        "plt.xlabel('Number of Wins')"
      ],
      "metadata": {
        "id": "OIXT4UVClnBF"
      },
      "execution_count": null,
      "outputs": []
    },
    {
      "cell_type": "code",
      "source": [
        "# Win Type Analysis\n",
        "plt.subplot(222)\n",
        "df['won_by'].value_counts().plot.pie(autopct='%1.1f%%')\n",
        "plt.title('Match Results Distribution')\n",
        "plt.ylabel('')\n"
      ],
      "metadata": {
        "id": "A6fUw3pjlqrP"
      },
      "execution_count": null,
      "outputs": []
    },
    {
      "cell_type": "code",
      "source": [
        "# Toss Decision Preference\n",
        "plt.subplot(223)\n",
        "sns.countplot(x='toss_decision', data=df)\n",
        "plt.title('Toss Decision Preference')\n",
        "plt.xlabel('Decision')\n",
        "plt.ylabel('Count')"
      ],
      "metadata": {
        "id": "f5z0iJIAlujs"
      },
      "execution_count": null,
      "outputs": []
    },
    {
      "cell_type": "code",
      "source": [
        "# Player of Match Awards\n",
        "plt.subplot(224)\n",
        "top_players = df['player_of_the_match'].value_counts().head(10)\n",
        "sns.barplot(x=top_players.values, y=top_players.index)\n",
        "plt.title('Top 10 Player of Match Awards')\n",
        "plt.xlabel('Awards Count')"
      ],
      "metadata": {
        "id": "uNUUHJv8lybV"
      },
      "execution_count": null,
      "outputs": []
    },
    {
      "cell_type": "code",
      "source": [
        "plt.tight_layout()\n",
        "plt.show()"
      ],
      "metadata": {
        "id": "M89noH37mAiB"
      },
      "execution_count": null,
      "outputs": []
    },
    {
      "cell_type": "code",
      "source": [
        "# 2. Bivariate Analysis\n",
        "plt.figure(figsize=(15, 10))"
      ],
      "metadata": {
        "id": "cdpFPnMimDbP"
      },
      "execution_count": null,
      "outputs": []
    },
    {
      "cell_type": "code",
      "source": [
        "# Win Type by Venue\n",
        "plt.subplot(221)\n",
        "sns.countplot(y='venue', hue='won_by', data=df)\n",
        "plt.title('Win Type by Venue')\n",
        "plt.xlabel('Count')\n",
        "plt.ylabel('Venue')"
      ],
      "metadata": {
        "id": "m897lAKmmHJu"
      },
      "execution_count": null,
      "outputs": []
    },
    {
      "cell_type": "code",
      "source": [
        "# Toss Decision vs Match Result\n",
        "plt.subplot(222)\n",
        "sns.countplot(x='toss_decision', hue='toss_win_match_win', data=df)\n",
        "plt.title('Toss Decision vs Match Outcome')\n",
        "plt.xlabel('Toss Decision')\n",
        "plt.ylabel('Count')\n",
        "plt.legend(title='Toss Winner Won Match?')"
      ],
      "metadata": {
        "id": "FTuQ769lmKI8"
      },
      "execution_count": null,
      "outputs": []
    },
    {
      "cell_type": "code",
      "source": [
        "# Average Score by Venue\n",
        "plt.subplot(223)\n",
        "venue_scores = df.groupby('venue')[['innings1_score', 'innings2_score']].mean()\n",
        "venue_scores.plot(kind='bar')\n",
        "plt.title('Average Scores by Venue')\n",
        "plt.xlabel('Venue')\n",
        "plt.ylabel('Average Score')\n",
        "plt.legend(['1st Innings', '2nd Innings'])"
      ],
      "metadata": {
        "id": "uyCMUAtemNvU"
      },
      "execution_count": null,
      "outputs": []
    },
    {
      "cell_type": "code",
      "source": [
        "# Win Margin Distribution\n",
        "plt.subplot(224)\n",
        "sns.boxplot(x='won_by', y='margin', data=df)\n",
        "plt.title('Win Margin Distribution')\n",
        "plt.xlabel('Win Type')\n",
        "plt.ylabel('Margin')\n",
        "\n",
        "plt.tight_layout()\n",
        "plt.show()"
      ],
      "metadata": {
        "id": "1xyiI716mVm8"
      },
      "execution_count": null,
      "outputs": []
    },
    {
      "cell_type": "code",
      "source": [
        "# 3. Multivariate Analysis\n",
        "# Correlation Heatmap\n",
        "numeric_cols = ['innings1_score', 'innings1_wickets', 'innings2_score',\n",
        "               'innings2_wickets', 'margin', 'win_by_runs', 'win_by_wickets']\n",
        "plt.figure(figsize=(10, 8))\n",
        "sns.heatmap(df[numeric_cols].corr(), annot=True, cmap='coolwarm')\n",
        "plt.title('Correlation Matrix')\n",
        "plt.show()"
      ],
      "metadata": {
        "id": "Xm22wIOTmbZe"
      },
      "execution_count": null,
      "outputs": []
    },
    {
      "cell_type": "code",
      "source": [
        "# Pairplot for Key Numerical Features\n",
        "sns.pairplot(df[['innings1_score', 'innings2_score', 'margin', 'win_by_runs']])\n",
        "plt.suptitle('Pairplot of Key Match Metrics', y=1.02)\n",
        "plt.show()"
      ],
      "metadata": {
        "id": "hGd_Epklmfzd"
      },
      "execution_count": null,
      "outputs": []
    },
    {
      "cell_type": "code",
      "source": [
        "# 4. Time Series Analysis\n",
        "# Wins Over Time\n",
        "plt.figure(figsize=(12, 6))\n",
        "df['date'] = pd.to_datetime(df['date'])\n",
        "match_count = df.groupby(['date', 'winning_team']).size().unstack().fillna(0)\n",
        "match_count.cumsum().plot()\n",
        "plt.title('Cumulative Wins Over Tournament')\n",
        "plt.xlabel('Date')\n",
        "plt.ylabel('Cumulative Wins')\n",
        "plt.legend(title='Team')\n",
        "plt.show()"
      ],
      "metadata": {
        "id": "9i-13EFmmir3"
      },
      "execution_count": null,
      "outputs": []
    },
    {
      "cell_type": "code",
      "source": [
        "# 5. Key Insights Summary\n",
        "print(\"\\n\" + \"=\"*50)\n",
        "print(\"KEY INSIGHTS SUMMARY\")\n",
        "print(\"=\"*50)"
      ],
      "metadata": {
        "id": "U5b3K02EmrI9"
      },
      "execution_count": null,
      "outputs": []
    },
    {
      "cell_type": "code",
      "source": [
        "# Insight 1: Toss Impact\n",
        "toss_win_rate = df['toss_win_match_win'].value_counts(normalize=True) * 100\n",
        "print(f\"\\n1. Toss Impact: {toss_win_rate['Yes']:.1f}% of matches were won by toss winners\")"
      ],
      "metadata": {
        "id": "JtKHau1nm3g1"
      },
      "execution_count": null,
      "outputs": []
    },
    {
      "cell_type": "code",
      "source": [
        "# Insight 2: Batting First Advantage\n",
        "bat_first_wins = df[df['toss_decision'] == 'bat']['toss_win_match_win'].value_counts(normalize=True) * 100\n",
        "print(f\"2. Batting First Advantage: When choosing to bat first, teams won {bat_first_wins['Yes']:.1f}% of matches\")\n"
      ],
      "metadata": {
        "id": "wM0YJEBkm9sj"
      },
      "execution_count": null,
      "outputs": []
    },
    {
      "cell_type": "code",
      "source": [
        "# Insight 3: High Scoring Venues\n",
        "highest_avg = venue_scores.mean(axis=1).idxmax()\n",
        "print(f\"3. Highest Scoring Venue: {highest_avg} with average score of {venue_scores.mean(axis=1).max():.1f}\")"
      ],
      "metadata": {
        "id": "qoEJQ6bYnBMK"
      },
      "execution_count": null,
      "outputs": []
    },
    {
      "cell_type": "code",
      "source": [
        "# Insight 4: Player Performance\n",
        "top_player = df['player_of_the_match'].value_counts().index[0]\n",
        "print(f\"4. Most Consistent Performer: {top_player} won {df['player_of_the_match'].value_counts().iloc[0]} Player of Match awards\")"
      ],
      "metadata": {
        "id": "RJbSmlMQnE7i"
      },
      "execution_count": null,
      "outputs": []
    },
    {
      "cell_type": "code",
      "source": [
        "# Insight 5: Win Margins\n",
        "wicket_wins = df[df['won_by'] == 'wickets']['margin'].mean()\n",
        "run_wins = df[df['won_by'] == 'runs']['margin'].mean()\n",
        "print(f\"5. Average Win Margins: {run_wins:.1f} runs when batting first, {wicket_wins:.1f} wickets when chasing\")"
      ],
      "metadata": {
        "id": "8v6eYHU6nIIE"
      },
      "execution_count": null,
      "outputs": []
    },
    {
      "cell_type": "code",
      "source": [
        "# Insight 6: Tournament Progression\n",
        "final_standings = df['winning_team'].value_counts().head(3)\n",
        "print(\"\\n6. Top 3 Teams by Wins:\")\n",
        "display(final_standings)"
      ],
      "metadata": {
        "id": "TcS6rjQynZIF"
      },
      "execution_count": null,
      "outputs": []
    },
    {
      "cell_type": "code",
      "source": [],
      "metadata": {
        "id": "9w4uZWxsneTb"
      },
      "execution_count": null,
      "outputs": []
    }
  ]
}